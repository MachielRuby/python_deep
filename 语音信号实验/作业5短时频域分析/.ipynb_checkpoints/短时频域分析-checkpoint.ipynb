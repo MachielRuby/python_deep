{
 "cells": [
  {
   "cell_type": "code",
   "execution_count": 1,
   "id": "a6d80e94",
   "metadata": {},
   "outputs": [],
   "source": [
    "# -*- coding:utf-8\n",
    "import warnings\n",
    "warnings.filterwarnings('ignore')\n",
    "import numpy as np\n",
    "import librosa\n",
    "import soundfile\n",
    "import pyaudio #录制和播放\n",
    "import wave # 导入wave库，处理音频\n",
    "import time\n",
    "import matplotlib.pyplot as plt\n",
    "from scipy.io import wavfile #读取wav提取数据\n",
    "from pydub import AudioSegment #　音频处理\n",
    "plt.rcParams['font.sans-serif'] = ['SimHei']  # 使用SimHei字体（可以根据需要选择其他字体）\n",
    "plt.rcParams['axes.unicode_minus'] = False  # 解决负号显示问题\n",
    "%matplotlib inline\n",
    "%config InlineBackend.figure_format = 'svg'"
   ]
  },
  {
   "cell_type": "code",
   "execution_count": null,
   "id": "684b1068",
   "metadata": {},
   "outputs": [],
   "source": []
  }
 ],
 "metadata": {
  "kernelspec": {
   "display_name": "Python [conda env:python_learning]",
   "language": "python",
   "name": "conda-env-python_learning-py"
  },
  "language_info": {
   "codemirror_mode": {
    "name": "ipython",
    "version": 3
   },
   "file_extension": ".py",
   "mimetype": "text/x-python",
   "name": "python",
   "nbconvert_exporter": "python",
   "pygments_lexer": "ipython3",
   "version": "3.11.4"
  }
 },
 "nbformat": 4,
 "nbformat_minor": 5
}
